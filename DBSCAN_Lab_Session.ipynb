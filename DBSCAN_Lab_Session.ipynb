{
 "cells": [
  {
   "cell_type": "code",
   "execution_count": 1,
   "metadata": {},
   "outputs": [],
   "source": [
    "import numpy as np\n",
    "from sklearn.cluster import DBSCAN\n",
    "from sklearn.datasets.samples_generator import make_blobs\n",
    "import matplotlib.pyplot as plt\n",
    "import sklearn.datasets as data\n",
    "import sklearn.cluster as cluster\n",
    "import time\n",
    "from sklearn import cluster, datasets"
   ]
  },
  {
   "cell_type": "markdown",
   "metadata": {},
   "source": [
    "## DBSCAN \n",
    "\n",
    "(1) Visualization with DBSCAN examples.\n",
    "\n",
    "https://www.naftaliharris.com/blog/visualizing-dbscan-clustering/\n",
    "\n",
    "(2) Sklearn documentation.\n",
    "\n",
    "http://scikit-learn.org/stable/modules/generated/sklearn.cluster.DBSCAN.html"
   ]
  },
  {
   "cell_type": "code",
   "execution_count": 2,
   "metadata": {},
   "outputs": [
    {
     "data": {
      "image/png": "[encoded data removed]",
      "text/plain": [
       "<matplotlib.figure.Figure at 0x10e26f0b8>"
      ]
     },
     "metadata": {},
     "output_type": "display_data"
    }
   ],
   "source": [
    "# Toy Example\n",
    "n_samples = 1500\n",
    "noisy_circles = datasets.make_circles(n_samples=n_samples, factor=.5,\n",
    "                                      noise=.05)[0]\n",
    "data=noisy_circles\n",
    "plt.scatter(data[:,0],data[:,1],s=10,c=\"b\",cmap=plt.cm.cool)\n",
    "plt.show()"
   ]
  },
  {
   "cell_type": "code",
   "execution_count": null,
   "metadata": {
    "collapsed": true
   },
   "outputs": [],
   "source": [
    "def visuDB(data,eps,min_samples):\n",
    "    db = DBSCAN(eps, min_samples).fit(data)\n",
    "    plt.figure(figsize=(6,6))\n",
    "    plt.scatter(data[:,0],data[:,1],c=db.labels_,s=10)\n",
    "    print \"Proportion of unclustered points=\",(1*(db.labels_ < 0)).mean()\n",
    "    plt.show()"
   ]
  },
  {
   "cell_type": "code",
   "execution_count": null,
   "metadata": {},
   "outputs": [],
   "source": [
    "visuDB(data,0.21,50)"
   ]
  },
  {
   "cell_type": "markdown",
   "metadata": {},
   "source": [
    "To detect individual anomalous points, look for combinations of eps and min_pts where the number of points NOT assigned to clusters is >0 but <5% of the data. "
   ]
  },
  {
   "cell_type": "code",
   "execution_count": null,
   "metadata": {},
   "outputs": [],
   "source": [
    "visuDB(data,0.08,10)"
   ]
  },
  {
   "cell_type": "markdown",
   "metadata": {},
   "source": [
    "### Practice One: Try different eps and min_samples to compare the clustering results.\n",
    "\n",
    "For min_samples = 50, can you find an eps which divides the data into the two rings without outliers?\n",
    "\n",
    "For eps = .15, can you find min_points which produces about 1% outliers?"
   ]
  },
  {
   "cell_type": "code",
   "execution_count": null,
   "metadata": {},
   "outputs": [],
   "source": [
    "# your code here"
   ]
  },
  {
   "cell_type": "markdown",
   "metadata": {},
   "source": [
    "### Using DBSCAN for Anomalous Cluster Detection.\n",
    "\n",
    "Our approach:\n",
    "\n",
    "Scan through a wide range of parameter values. Choose values where # of points assigned to clusters is >0 but <10% of the data.  Note: the interpretation is different from above.  Now the points assigned to clusters are considered anomalous, and the remaining points are considered normal!"
   ]
  },
  {
   "cell_type": "code",
   "execution_count": null,
   "metadata": {
    "scrolled": false
   },
   "outputs": [],
   "source": [
    "np.random.seed(1000)\n",
    "centers = [[0.3, 0.7],[0.7, 0.3]]\n",
    "X, labels_true = make_blobs(n_samples=100, centers=centers, cluster_std=0.04,\n",
    "                            random_state=0)\n",
    "no_structure = np.random.rand(2000, 2)\n",
    "X2=np.append(X,no_structure,axis=0)\n",
    "plt.figure(figsize=(6,6))\n",
    "plt.scatter(X[:,0],X[:,1],s=10,c=\"b\",cmap=plt.cm.cool)\n",
    "thegraph = plt.scatter(no_structure[:,0],no_structure[:,1],c='b',s=10,cmap=plt.cm.cool)\n",
    "plt.show()"
   ]
  },
  {
   "cell_type": "code",
   "execution_count": null,
   "metadata": {},
   "outputs": [],
   "source": [
    "plt.figure(figsize=(6,6))\n",
    "plt.scatter(X[:,0],X[:,1],s=10,c=\"r\",cmap=plt.cm.cool)\n",
    "plt.scatter(no_structure[:,0],no_structure[:,1],c='b',s=10,cmap=plt.cm.cool)\n",
    "plt.show()"
   ]
  },
  {
   "cell_type": "code",
   "execution_count": null,
   "metadata": {
    "scrolled": false
   },
   "outputs": [],
   "source": [
    "total_num_samples = len(X2[:,0])\n",
    "max_eps = max(np.max(X2[:,0])-np.min(X2[:,0]),np.max(X2[:,1])-np.min(X2[:,1]))\n",
    "\n",
    "for eps in np.logspace(np.log10(max_eps)-5,np.log10(max_eps),50):\n",
    "    for min_samples in np.linspace(10,200,20,endpoint=True):\n",
    "        db = DBSCAN(eps, min_samples).fit(X2)\n",
    "        num_clustered = len(db.labels_[db.labels_ >= 0])\n",
    "        if (num_clustered > 0) & (num_clustered < 0.1*total_num_samples):\n",
    "            dbb=db\n",
    "            plt.figure(figsize=(8,8))\n",
    "            print \"eps =\", eps, \", min_samples =\", min_samples, \", num_detected_points =\", len(db.labels_[db.labels_ >= 0])\n",
    "            \n",
    "            # evaluation\n",
    "            num_correct_clustered = len(db.labels_[0:100][db.labels_[0:100] >= 0])\n",
    "            print \"precision=\",1.0*num_correct_clustered/num_clustered,\"recall=\",1.0*num_correct_clustered/100.0\n",
    "            \n",
    "            plt.scatter(X2[:,0],X2[:,1],c=db.labels_,s=10,cmap=plt.cm.cool)\n",
    "            plt.show()"
   ]
  },
  {
   "cell_type": "markdown",
   "metadata": {},
   "source": [
    "## Practice #2. \n",
    "\n",
    "Detect which areas of Manhattan have the most serious rat problems (i.e., anomalous clusters of rodent complaints).\n",
    "\n",
    "<img src=\"Manhattan neighborhood map.png\" width=600 height=400>"
   ]
  },
  {
   "cell_type": "code",
   "execution_count": null,
   "metadata": {
    "scrolled": false
   },
   "outputs": [],
   "source": [
    "# Rodent complaint data from 2016\n",
    "import numpy as np\n",
    "import pandas as pd\n",
    "rat = pd.read_csv(\"Manhattan 311 Rodent Complaints.csv\")\n",
    "print rat.head()\n",
    "ratdata = rat.values\n",
    "\n",
    "# your code here"
   ]
  }
 ],
 "metadata": {
  "anaconda-cloud": {},
  "kernelspec": {
   "display_name": "Python 3",
   "language": "python",
   "name": "python3"
  },
  "language_info": {
   "codemirror_mode": {
    "name": "ipython",
    "version": 3
   },
   "file_extension": ".py",
   "mimetype": "text/x-python",
   "name": "python",
   "nbconvert_exporter": "python",
   "pygments_lexer": "ipython3",
   "version": "3.6.1"
  }
 },
 "nbformat": 4,
 "nbformat_minor": 1
}
