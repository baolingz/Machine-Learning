{
 "cells": [
  {
   "cell_type": "markdown",
   "metadata": {},
   "source": [
    "The notebook is mainly based on pgmpy's introductory notebooks.  You will need to install the pgmpy (\"Probabilistic Graphical Models for Python\") package if it is not already installed (I used: pip install pgmpy)."
   ]
  },
  {
   "cell_type": "code",
   "execution_count": 1,
   "metadata": {
    "collapsed": true
   },
   "outputs": [],
   "source": [
    "from IPython.display import Image"
   ]
  },
  {
   "cell_type": "markdown",
   "metadata": {},
   "source": [
    "### Bayesian Models\n",
    "We can take the example of the student model:"
   ]
  },
  {
   "cell_type": "code",
   "execution_count": 2,
   "metadata": {
    "scrolled": false
   },
   "outputs": [
    {
     "data": {
      "image/png": "./student_full_param.png",
      "text/plain": [
       "<IPython.core.display.Image object>"
      ]
     },
     "execution_count": 2,
     "metadata": {},
     "output_type": "execute_result"
    }
   ],
   "source": [
    "Image('./student_full_param.png')"
   ]
  },
  {
   "cell_type": "markdown",
   "metadata": {},
   "source": [
    "In pgmpy we define the network structure and the CPDs separately and then associate them with the structure. Here's an example for defining the above model:"
   ]
  },
  {
   "cell_type": "code",
   "execution_count": 1,
   "metadata": {},
   "outputs": [
    {
     "data": {
      "text/plain": [
       "True"
      ]
     },
     "execution_count": 1,
     "metadata": {},
     "output_type": "execute_result"
    }
   ],
   "source": [
    "from pgmpy.models import BayesianModel\n",
    "from pgmpy.factors.discrete import TabularCPD\n",
    "\n",
    "# Defining the model structure. We can define the network by just passing a list of edges.\n",
    "model = BayesianModel([('D', 'G'), ('I', 'G'), ('G', 'L'), ('I', 'S')])\n",
    "\n",
    "# Defining individual CPDs.\n",
    "cpd_d = TabularCPD(variable='D', variable_card=2, values=[[0.6, 0.4]])\n",
    "cpd_i = TabularCPD(variable='I', variable_card=2, values=[[0.7, 0.3]])\n",
    "\n",
    "# The representation of CPD in pgmpy is a bit different than the CPD shown in the above picture. In pgmpy the colums\n",
    "# are the evidences and rows are the states of the variable. So the grade CPD is represented like this:\n",
    "#\n",
    "#    +---------+---------+---------+---------+---------+\n",
    "#    | diff    | intel_0 | intel_0 | intel_1 | intel_1 |\n",
    "#    +---------+---------+---------+---------+---------+\n",
    "#    | intel   | diff_0  | diff_1  | diff_0  | diff_1  |\n",
    "#    +---------+---------+---------+---------+---------+\n",
    "#    | grade_0 | 0.3     | 0.05    | 0.9     | 0.5     |\n",
    "#    +---------+---------+---------+---------+---------+\n",
    "#    | grade_1 | 0.4     | 0.25    | 0.08    | 0.3     |\n",
    "#    +---------+---------+---------+---------+---------+\n",
    "#    | grade_2 | 0.3     | 0.7     | 0.02    | 0.2     |\n",
    "#    +---------+---------+---------+---------+---------+\n",
    "\n",
    "cpd_g = TabularCPD(variable='G', variable_card=3, \n",
    "                   values=[[0.3, 0.05, 0.9,  0.5],\n",
    "                           [0.4, 0.25, 0.08, 0.3],\n",
    "                           [0.3, 0.7,  0.02, 0.2]],\n",
    "                  evidence=['I', 'D'],\n",
    "                  evidence_card=[2, 2])\n",
    "\n",
    "cpd_l = TabularCPD(variable='L', variable_card=2, \n",
    "                   values=[[0.1, 0.4, 0.99],\n",
    "                           [0.9, 0.6, 0.01]],\n",
    "                   evidence=['G'],\n",
    "                   evidence_card=[3])\n",
    "\n",
    "cpd_s = TabularCPD(variable='S', variable_card=2,\n",
    "                   values=[[0.95, 0.2],\n",
    "                           [0.05, 0.8]],\n",
    "                   evidence=['I'],\n",
    "                   evidence_card=[2])\n",
    "\n",
    "# Associating the CPDs with the network\n",
    "model.add_cpds(cpd_d, cpd_i, cpd_g, cpd_l, cpd_s)\n",
    "\n",
    "# check_model checks for the network structure and CPDs and verifies that the CPDs are correctly \n",
    "# defined and sum to 1.\n",
    "model.check_model()"
   ]
  },
  {
   "cell_type": "code",
   "execution_count": 2,
   "metadata": {},
   "outputs": [
    {
     "data": {
      "text/plain": [
       "[<TabularCPD representing P(D:2) at 0x10d8344e0>,\n",
       " <TabularCPD representing P(I:2) at 0x10d84a4a8>,\n",
       " <TabularCPD representing P(G:3 | I:2, D:2) at 0x10d84a5f8>,\n",
       " <TabularCPD representing P(L:2 | G:3) at 0x10d84a550>,\n",
       " <TabularCPD representing P(S:2 | I:2) at 0x112e9e0b8>]"
      ]
     },
     "execution_count": 2,
     "metadata": {},
     "output_type": "execute_result"
    }
   ],
   "source": [
    "# We can now call some methods on the BayesianModel object.\n",
    "model.get_cpds()"
   ]
  },
  {
   "cell_type": "code",
   "execution_count": 3,
   "metadata": {},
   "outputs": [
    {
     "name": "stdout",
     "output_type": "stream",
     "text": [
      "+-----+-----+------+------+-----+\n",
      "| I   | I_0 | I_0  | I_1  | I_1 |\n",
      "+-----+-----+------+------+-----+\n",
      "| D   | D_0 | D_1  | D_0  | D_1 |\n",
      "+-----+-----+------+------+-----+\n",
      "| G_0 | 0.3 | 0.05 | 0.9  | 0.5 |\n",
      "+-----+-----+------+------+-----+\n",
      "| G_1 | 0.4 | 0.25 | 0.08 | 0.3 |\n",
      "+-----+-----+------+------+-----+\n",
      "| G_2 | 0.3 | 0.7  | 0.02 | 0.2 |\n",
      "+-----+-----+------+------+-----+\n"
     ]
    }
   ],
   "source": [
    "print(model.get_cpds('G'))"
   ]
  },
  {
   "cell_type": "code",
   "execution_count": 4,
   "metadata": {},
   "outputs": [
    {
     "name": "stdout",
     "output_type": "stream",
     "text": [
      "['D', 'I']\n",
      "['L']\n"
     ]
    }
   ],
   "source": [
    "print(model.predecessors('G'))\n",
    "print(model.successors('G'))"
   ]
  },
  {
   "cell_type": "markdown",
   "metadata": {},
   "source": [
    "### Independencies in Bayesian Networks\n",
    "\n",
    "Independence relationships implied by the network structure of a Bayesian Network can be categorized into 2 types:\n",
    "\n",
    "__Local Independencies:__ Any variable in the network is independent of its non-descendents given its parents. Mathematically it can be written as: $$ (X \\perp NonDesc(X) | Pa(X) $$\n",
    "where $ NonDesc(X) $ is the set of variables which are not descendents of $ X $ and $ Pa(X) $ is the set of variables which are parents of $ X $.\n",
    "\n",
    "\n",
    "__Global Independencies:__ For discussing global independencies in Bayesian Networks we need to look at the various network structures possible."
   ]
  },
  {
   "cell_type": "code",
   "execution_count": 5,
   "metadata": {},
   "outputs": [
    {
     "name": "stdout",
     "output_type": "stream",
     "text": [
      "['D', 'G', 'I', 'L', 'S']\n",
      "(D _|_ I, S)\n",
      "(G _|_ S | I, D)\n",
      "(I _|_ D)\n",
      "(L _|_ I, D, S | G)\n",
      "(S _|_ D, G, L | I)\n"
     ]
    }
   ],
   "source": [
    "# Getting the local independencies of a variable.\n",
    "print(model.nodes())\n",
    "for thenode in model.nodes():\n",
    "    print(model.local_independencies(thenode))\n",
    "# Or equivalently, you could write: model.local_independencies(model.nodes())"
   ]
  },
  {
   "cell_type": "code",
   "execution_count": 6,
   "metadata": {},
   "outputs": [
    {
     "name": "stdout",
     "output_type": "stream",
     "text": [
      "{'D': {'D', 'G', 'L'}}\n",
      "{'G': {'D', 'L', 'I', 'S', 'G'}}\n",
      "{'I': {'I', 'L', 'G', 'S'}}\n",
      "{'L': {'D', 'L', 'I', 'S', 'G'}}\n",
      "{'S': {'I', 'L', 'G', 'S'}}\n"
     ]
    }
   ],
   "source": [
    "# Active trail: For any two variables A and B in a network if any change in A influences the values of B then we say\n",
    "# that there is an active trail (or unblocked path) between A and B.\n",
    "# In pgmpy, active_trail_nodes gives a set of nodes which are affected by any change in the node passed in the argument.\n",
    "for thenode in model.nodes():\n",
    "    print(model.active_trail_nodes(thenode))"
   ]
  },
  {
   "cell_type": "code",
   "execution_count": 7,
   "metadata": {},
   "outputs": [
    {
     "name": "stdout",
     "output_type": "stream",
     "text": [
      "{'D': {'I', 'D', 'S'}}\n",
      "{'G': set()}\n",
      "{'I': {'I', 'D', 'S'}}\n",
      "{'L': {'L'}}\n",
      "{'S': {'I', 'D', 'S'}}\n"
     ]
    }
   ],
   "source": [
    "for thenode in model.nodes():\n",
    "    print(model.active_trail_nodes(thenode, observed='G'))"
   ]
  },
  {
   "cell_type": "markdown",
   "metadata": {},
   "source": [
    "Conditional Probability "
   ]
  },
  {
   "cell_type": "code",
   "execution_count": 8,
   "metadata": {},
   "outputs": [
    {
     "name": "stdout",
     "output_type": "stream",
     "text": [
      "+-----+----------+\n",
      "| G   |   phi(G) |\n",
      "+=====+==========+\n",
      "| G_0 |   0.3620 |\n",
      "+-----+----------+\n",
      "| G_1 |   0.2884 |\n",
      "+-----+----------+\n",
      "| G_2 |   0.3496 |\n",
      "+-----+----------+\n",
      "+-----+----------+\n",
      "| G   |   phi(G) |\n",
      "+=====+==========+\n",
      "| G_0 |   0.9000 |\n",
      "+-----+----------+\n",
      "| G_1 |   0.0800 |\n",
      "+-----+----------+\n",
      "| G_2 |   0.0200 |\n",
      "+-----+----------+\n"
     ]
    }
   ],
   "source": [
    "from pgmpy.inference import VariableElimination\n",
    "infer = VariableElimination(model)\n",
    "\n",
    "# Marginal distribution of G\n",
    "print(infer.query(['G'])['G'])\n",
    "\n",
    "# Conditional distribution of G given ~D, I\n",
    "print(infer.query(['G'], evidence={'D': 0, 'I': 1}) ['G'])"
   ]
  },
  {
   "cell_type": "markdown",
   "metadata": {},
   "source": [
    "####  Predicting values for new data points"
   ]
  },
  {
   "cell_type": "code",
   "execution_count": 9,
   "metadata": {},
   "outputs": [
    {
     "ename": "TypeError",
     "evalue": "variables must be a list of strings",
     "output_type": "error",
     "traceback": [
      "\u001b[0;31m---------------------------------------------------------------------------\u001b[0m",
      "\u001b[0;31mTypeError\u001b[0m                                 Traceback (most recent call last)",
      "\u001b[0;32m<ipython-input-9-bde11e7ba390>\u001b[0m in \u001b[0;36m<module>\u001b[0;34m()\u001b[0m\n\u001b[1;32m      1\u001b[0m \u001b[0;31m# Most likely value (marginal)\u001b[0m\u001b[0;34m\u001b[0m\u001b[0;34m\u001b[0m\u001b[0m\n\u001b[0;32m----> 2\u001b[0;31m \u001b[0mprint\u001b[0m\u001b[0;34m(\u001b[0m\u001b[0minfer\u001b[0m\u001b[0;34m.\u001b[0m\u001b[0mmap_query\u001b[0m\u001b[0;34m(\u001b[0m\u001b[0;34m'G'\u001b[0m\u001b[0;34m)\u001b[0m\u001b[0;34m)\u001b[0m\u001b[0;34m\u001b[0m\u001b[0m\n\u001b[0m\u001b[1;32m      3\u001b[0m \u001b[0;34m\u001b[0m\u001b[0m\n\u001b[1;32m      4\u001b[0m \u001b[0;31m# Most likely value (conditional on ~D, I)\u001b[0m\u001b[0;34m\u001b[0m\u001b[0;34m\u001b[0m\u001b[0m\n\u001b[1;32m      5\u001b[0m \u001b[0mprint\u001b[0m\u001b[0;34m(\u001b[0m\u001b[0minfer\u001b[0m\u001b[0;34m.\u001b[0m\u001b[0mmap_query\u001b[0m\u001b[0;34m(\u001b[0m\u001b[0;34m'G'\u001b[0m\u001b[0;34m,\u001b[0m \u001b[0mevidence\u001b[0m\u001b[0;34m=\u001b[0m\u001b[0;34m{\u001b[0m\u001b[0;34m'D'\u001b[0m\u001b[0;34m:\u001b[0m \u001b[0;36m0\u001b[0m\u001b[0;34m,\u001b[0m \u001b[0;34m'I'\u001b[0m\u001b[0;34m:\u001b[0m \u001b[0;36m1\u001b[0m\u001b[0;34m}\u001b[0m\u001b[0;34m)\u001b[0m\u001b[0;34m)\u001b[0m\u001b[0;34m\u001b[0m\u001b[0m\n",
      "\u001b[0;32m/Users/zhoubaoling/anaconda/lib/python3.6/site-packages/pgmpy-0.1.6-py3.6.egg/pgmpy/utils/state_name.py\u001b[0m in \u001b[0;36m__call__\u001b[0;34m(self, f, instance, args, kwargs)\u001b[0m\n\u001b[1;32m    165\u001b[0m \u001b[0;34m\u001b[0m\u001b[0m\n\u001b[1;32m    166\u001b[0m         \u001b[0;32mif\u001b[0m \u001b[0;32mnot\u001b[0m \u001b[0mmethod_self\u001b[0m\u001b[0;34m.\u001b[0m\u001b[0mstate_names\u001b[0m\u001b[0;34m:\u001b[0m\u001b[0;34m\u001b[0m\u001b[0m\n\u001b[0;32m--> 167\u001b[0;31m             \u001b[0;32mreturn\u001b[0m \u001b[0mf\u001b[0m\u001b[0;34m(\u001b[0m\u001b[0;34m*\u001b[0m\u001b[0margs\u001b[0m\u001b[0;34m,\u001b[0m \u001b[0;34m**\u001b[0m\u001b[0mkwargs\u001b[0m\u001b[0;34m)\u001b[0m\u001b[0;34m\u001b[0m\u001b[0m\n\u001b[0m\u001b[1;32m    168\u001b[0m         \u001b[0;32melse\u001b[0m\u001b[0;34m:\u001b[0m\u001b[0;34m\u001b[0m\u001b[0m\n\u001b[1;32m    169\u001b[0m             \u001b[0mself\u001b[0m\u001b[0;34m.\u001b[0m\u001b[0mstate_names\u001b[0m \u001b[0;34m=\u001b[0m \u001b[0mmethod_self\u001b[0m\u001b[0;34m.\u001b[0m\u001b[0mstate_names\u001b[0m\u001b[0;34m\u001b[0m\u001b[0m\n",
      "\u001b[0;32m/Users/zhoubaoling/anaconda/lib/python3.6/site-packages/pgmpy-0.1.6-py3.6.egg/pgmpy/inference/ExactInference.py\u001b[0m in \u001b[0;36mmap_query\u001b[0;34m(self, variables, evidence, elimination_order)\u001b[0m\n\u001b[1;32m    202\u001b[0m         final_distribution = self._variable_elimination(variables, 'marginalize',\n\u001b[1;32m    203\u001b[0m                                                         \u001b[0mevidence\u001b[0m\u001b[0;34m=\u001b[0m\u001b[0mevidence\u001b[0m\u001b[0;34m,\u001b[0m\u001b[0;34m\u001b[0m\u001b[0m\n\u001b[0;32m--> 204\u001b[0;31m                                                         elimination_order=elimination_order)\n\u001b[0m\u001b[1;32m    205\u001b[0m         \u001b[0;31m# To handle the case when no argument is passed then\u001b[0m\u001b[0;34m\u001b[0m\u001b[0;34m\u001b[0m\u001b[0m\n\u001b[1;32m    206\u001b[0m         \u001b[0;31m# _variable_elimination returns a dict.\u001b[0m\u001b[0;34m\u001b[0m\u001b[0;34m\u001b[0m\u001b[0m\n",
      "\u001b[0;32m/Users/zhoubaoling/anaconda/lib/python3.6/site-packages/pgmpy-0.1.6-py3.6.egg/pgmpy/utils/state_name.py\u001b[0m in \u001b[0;36m__call__\u001b[0;34m(self, f, instance, args, kwargs)\u001b[0m\n\u001b[1;32m    165\u001b[0m \u001b[0;34m\u001b[0m\u001b[0m\n\u001b[1;32m    166\u001b[0m         \u001b[0;32mif\u001b[0m \u001b[0;32mnot\u001b[0m \u001b[0mmethod_self\u001b[0m\u001b[0;34m.\u001b[0m\u001b[0mstate_names\u001b[0m\u001b[0;34m:\u001b[0m\u001b[0;34m\u001b[0m\u001b[0m\n\u001b[0;32m--> 167\u001b[0;31m             \u001b[0;32mreturn\u001b[0m \u001b[0mf\u001b[0m\u001b[0;34m(\u001b[0m\u001b[0;34m*\u001b[0m\u001b[0margs\u001b[0m\u001b[0;34m,\u001b[0m \u001b[0;34m**\u001b[0m\u001b[0mkwargs\u001b[0m\u001b[0;34m)\u001b[0m\u001b[0;34m\u001b[0m\u001b[0m\n\u001b[0m\u001b[1;32m    168\u001b[0m         \u001b[0;32melse\u001b[0m\u001b[0;34m:\u001b[0m\u001b[0;34m\u001b[0m\u001b[0m\n\u001b[1;32m    169\u001b[0m             \u001b[0mself\u001b[0m\u001b[0;34m.\u001b[0m\u001b[0mstate_names\u001b[0m \u001b[0;34m=\u001b[0m \u001b[0mmethod_self\u001b[0m\u001b[0;34m.\u001b[0m\u001b[0mstate_names\u001b[0m\u001b[0;34m\u001b[0m\u001b[0m\n",
      "\u001b[0;32m/Users/zhoubaoling/anaconda/lib/python3.6/site-packages/pgmpy-0.1.6-py3.6.egg/pgmpy/inference/ExactInference.py\u001b[0m in \u001b[0;36m_variable_elimination\u001b[0;34m(self, variables, operation, evidence, elimination_order)\u001b[0m\n\u001b[1;32m     35\u001b[0m         \"\"\"\n\u001b[1;32m     36\u001b[0m         \u001b[0;32mif\u001b[0m \u001b[0misinstance\u001b[0m\u001b[0;34m(\u001b[0m\u001b[0mvariables\u001b[0m\u001b[0;34m,\u001b[0m \u001b[0mstring_types\u001b[0m\u001b[0;34m)\u001b[0m\u001b[0;34m:\u001b[0m\u001b[0;34m\u001b[0m\u001b[0m\n\u001b[0;32m---> 37\u001b[0;31m             \u001b[0;32mraise\u001b[0m \u001b[0mTypeError\u001b[0m\u001b[0;34m(\u001b[0m\u001b[0;34m\"variables must be a list of strings\"\u001b[0m\u001b[0;34m)\u001b[0m\u001b[0;34m\u001b[0m\u001b[0m\n\u001b[0m\u001b[1;32m     38\u001b[0m         \u001b[0;32mif\u001b[0m \u001b[0misinstance\u001b[0m\u001b[0;34m(\u001b[0m\u001b[0mevidence\u001b[0m\u001b[0;34m,\u001b[0m \u001b[0mstring_types\u001b[0m\u001b[0;34m)\u001b[0m\u001b[0;34m:\u001b[0m\u001b[0;34m\u001b[0m\u001b[0m\n\u001b[1;32m     39\u001b[0m             \u001b[0;32mraise\u001b[0m \u001b[0mTypeError\u001b[0m\u001b[0;34m(\u001b[0m\u001b[0;34m\"evidence must be a list of strings\"\u001b[0m\u001b[0;34m)\u001b[0m\u001b[0;34m\u001b[0m\u001b[0m\n",
      "\u001b[0;31mTypeError\u001b[0m: variables must be a list of strings"
     ]
    }
   ],
   "source": [
    "# Most likely value (marginal)\n",
    "print(infer.map_query('G'))\n",
    "\n",
    "# Most likely value (conditional on ~D, I)\n",
    "print(infer.map_query('G', evidence={'D': 0, 'I': 1}))"
   ]
  },
  {
   "cell_type": "markdown",
   "metadata": {},
   "source": [
    "### Practice #1: "
   ]
  },
  {
   "cell_type": "code",
   "execution_count": null,
   "metadata": {
    "collapsed": true
   },
   "outputs": [],
   "source": [
    "Image('./Cloud.png')"
   ]
  },
  {
   "cell_type": "markdown",
   "metadata": {},
   "source": [
    "#### Part 1: Build the Bayesian model and add all the CPDs.  Print out all the local independencies. "
   ]
  },
  {
   "cell_type": "code",
   "execution_count": null,
   "metadata": {
    "collapsed": true
   },
   "outputs": [],
   "source": []
  },
  {
   "cell_type": "markdown",
   "metadata": {},
   "source": [
    "#### Part 2. Get P(W), P(W|C=f, S=t, R=t), P(W|C=f,S=f).  Predict the most likely value of W in each case."
   ]
  },
  {
   "cell_type": "code",
   "execution_count": null,
   "metadata": {
    "collapsed": true
   },
   "outputs": [],
   "source": []
  },
  {
   "cell_type": "markdown",
   "metadata": {
    "collapsed": true
   },
   "source": [
    "## Learning from Data\n",
    "\n",
    "This section will be about obtaining a Bayesian network, given a set of sample data. Learning a Bayesian network can be split into two problems:\n",
    "\n",
    " **Parameter learning:** Given a set of data records and a DAG that captures the dependencies between the variables, estimate the (conditional) probability distributions of the individual variables.\n",
    " \n",
    " **Structure learning:** Given a set of data records, estimate a DAG that captures the dependencies between the variables.\n",
    " \n",
    "We will illustrate how parameter learning and structure learning can be done with pgmpy. Currently, the library supports:\n",
    "\n",
    " - Parameter learning for *discrete* nodes:\n",
    "   - Maximum Likelihood Estimation\n",
    "   - Bayesian Estimation\n",
    "\n",
    "- Structure learning for *discrete*, *fully observed* networks:\n",
    "   - Score-based structure estimation (BIC/BDeu/K2 score; exhaustive search, hill climb/tabu search)\n",
    "   - Constraint-based structure estimation (PC)\n",
    "\n",
    "\n",
    "### (1) Parameter Learning\n",
    "\n",
    "Suppose we have the following data:"
   ]
  },
  {
   "cell_type": "code",
   "execution_count": 18,
   "metadata": {},
   "outputs": [
    {
     "data": {
      "text/html": [
       "<div>\n",
       "<style>\n",
       "    .dataframe thead tr:only-child th {\n",
       "        text-align: right;\n",
       "    }\n",
       "\n",
       "    .dataframe thead th {\n",
       "        text-align: left;\n",
       "    }\n",
       "\n",
       "    .dataframe tbody tr th {\n",
       "        vertical-align: top;\n",
       "    }\n",
       "</style>\n",
       "<table border=\"1\" class=\"dataframe\">\n",
       "  <thead>\n",
       "    <tr style=\"text-align: right;\">\n",
       "      <th></th>\n",
       "      <th>fruit</th>\n",
       "      <th>size</th>\n",
       "      <th>tasty</th>\n",
       "    </tr>\n",
       "  </thead>\n",
       "  <tbody>\n",
       "    <tr>\n",
       "      <th>0</th>\n",
       "      <td>banana</td>\n",
       "      <td>large</td>\n",
       "      <td>yes</td>\n",
       "    </tr>\n",
       "    <tr>\n",
       "      <th>1</th>\n",
       "      <td>apple</td>\n",
       "      <td>large</td>\n",
       "      <td>no</td>\n",
       "    </tr>\n",
       "    <tr>\n",
       "      <th>2</th>\n",
       "      <td>banana</td>\n",
       "      <td>large</td>\n",
       "      <td>yes</td>\n",
       "    </tr>\n",
       "    <tr>\n",
       "      <th>3</th>\n",
       "      <td>apple</td>\n",
       "      <td>small</td>\n",
       "      <td>yes</td>\n",
       "    </tr>\n",
       "    <tr>\n",
       "      <th>4</th>\n",
       "      <td>banana</td>\n",
       "      <td>large</td>\n",
       "      <td>yes</td>\n",
       "    </tr>\n",
       "    <tr>\n",
       "      <th>5</th>\n",
       "      <td>apple</td>\n",
       "      <td>large</td>\n",
       "      <td>yes</td>\n",
       "    </tr>\n",
       "    <tr>\n",
       "      <th>6</th>\n",
       "      <td>banana</td>\n",
       "      <td>large</td>\n",
       "      <td>yes</td>\n",
       "    </tr>\n",
       "    <tr>\n",
       "      <th>7</th>\n",
       "      <td>apple</td>\n",
       "      <td>small</td>\n",
       "      <td>yes</td>\n",
       "    </tr>\n",
       "    <tr>\n",
       "      <th>8</th>\n",
       "      <td>apple</td>\n",
       "      <td>large</td>\n",
       "      <td>yes</td>\n",
       "    </tr>\n",
       "    <tr>\n",
       "      <th>9</th>\n",
       "      <td>apple</td>\n",
       "      <td>large</td>\n",
       "      <td>yes</td>\n",
       "    </tr>\n",
       "    <tr>\n",
       "      <th>10</th>\n",
       "      <td>banana</td>\n",
       "      <td>large</td>\n",
       "      <td>yes</td>\n",
       "    </tr>\n",
       "    <tr>\n",
       "      <th>11</th>\n",
       "      <td>banana</td>\n",
       "      <td>large</td>\n",
       "      <td>no</td>\n",
       "    </tr>\n",
       "    <tr>\n",
       "      <th>12</th>\n",
       "      <td>apple</td>\n",
       "      <td>small</td>\n",
       "      <td>no</td>\n",
       "    </tr>\n",
       "    <tr>\n",
       "      <th>13</th>\n",
       "      <td>banana</td>\n",
       "      <td>small</td>\n",
       "      <td>no</td>\n",
       "    </tr>\n",
       "  </tbody>\n",
       "</table>\n",
       "</div>"
      ],
      "text/plain": [
       "     fruit   size tasty\n",
       "0   banana  large   yes\n",
       "1    apple  large    no\n",
       "2   banana  large   yes\n",
       "3    apple  small   yes\n",
       "4   banana  large   yes\n",
       "5    apple  large   yes\n",
       "6   banana  large   yes\n",
       "7    apple  small   yes\n",
       "8    apple  large   yes\n",
       "9    apple  large   yes\n",
       "10  banana  large   yes\n",
       "11  banana  large    no\n",
       "12   apple  small    no\n",
       "13  banana  small    no"
      ]
     },
     "execution_count": 18,
     "metadata": {},
     "output_type": "execute_result"
    }
   ],
   "source": [
    "import pandas as pd\n",
    "data = pd.DataFrame(data={'fruit': [\"banana\", \"apple\", \"banana\", \"apple\", \"banana\",\"apple\", \"banana\", \n",
    "                                    \"apple\", \"apple\", \"apple\", \"banana\", \"banana\", \"apple\", \"banana\",], \n",
    "                          'tasty': [\"yes\", \"no\", \"yes\", \"yes\", \"yes\", \"yes\", \"yes\", \n",
    "                                    \"yes\", \"yes\", \"yes\", \"yes\", \"no\", \"no\", \"no\"], \n",
    "                          'size': [\"large\", \"large\", \"large\", \"small\", \"large\", \"large\", \"large\",\n",
    "                                    \"small\", \"large\", \"large\", \"large\", \"large\", \"small\", \"small\"]})\n",
    "data"
   ]
  },
  {
   "cell_type": "markdown",
   "metadata": {},
   "source": [
    "We know that the variables are related as follows:"
   ]
  },
  {
   "cell_type": "code",
   "execution_count": 19,
   "metadata": {
    "collapsed": true
   },
   "outputs": [],
   "source": [
    "from pgmpy.models import BayesianModel\n",
    "model = BayesianModel([('fruit', 'tasty'), ('size', 'tasty')])  # fruit -> tasty <- size"
   ]
  },
  {
   "cell_type": "markdown",
   "metadata": {},
   "source": [
    "Parameter learning is the task of estimating the values of the conditional probability distributions (CPDs), for the variables `fruit`, `size`, and `tasty`. \n",
    "\n",
    "#### State counts\n",
    "\n",
    "To make sense of the given data, we can start by counting how often each state of the variable occurs. If the variable is dependent on parents, the counts are done conditionally on the parents states, i.e., separately for each parent configuration:"
   ]
  },
  {
   "cell_type": "code",
   "execution_count": 21,
   "metadata": {},
   "outputs": [
    {
     "name": "stdout",
     "output_type": "stream",
     "text": [
      "        fruit\n",
      "apple       7\n",
      "banana      7\n",
      "\n",
      "\n",
      "fruit apple       banana      \n",
      "size  large small  large small\n",
      "tasty                         \n",
      "no      1.0   1.0    1.0   1.0\n",
      "yes     3.0   2.0    5.0   0.0\n"
     ]
    }
   ],
   "source": [
    "from pgmpy.estimators import ParameterEstimator\n",
    "pe = ParameterEstimator(model, data)\n",
    "print(pe.state_counts('fruit'))  # unconditional\n",
    "print (\"\\n\")\n",
    "print(pe.state_counts('tasty'))  # conditional on fruit and size"
   ]
  },
  {
   "cell_type": "markdown",
   "metadata": {},
   "source": [
    "#### Maximum Likelihood Estimation\n",
    "\n",
    "A natural estimate for the CPDs is to simply use the *relative frequencies* with which the variable states have occured. We observed `7 apples` among a total of `14 fruits`, so we might guess that about `50%` of `fruits` are `apples`.\n",
    "\n",
    "This approach is *Maximum Likelihood Estimation (MLE)*. According to MLE, we should fill the CPDs in such a way, that $P(\\text{data}\\:|\\:\\text{model})$ is maximal. This is achieved when using the *relative frequencies*."
   ]
  },
  {
   "cell_type": "code",
   "execution_count": 22,
   "metadata": {},
   "outputs": [
    {
     "name": "stdout",
     "output_type": "stream",
     "text": [
      "+---------------+-----+\n",
      "| fruit(apple)  | 0.5 |\n",
      "+---------------+-----+\n",
      "| fruit(banana) | 0.5 |\n",
      "+---------------+-----+\n",
      "+------------+--------------+--------------------+---------------------+---------------+\n",
      "| fruit      | fruit(apple) | fruit(apple)       | fruit(banana)       | fruit(banana) |\n",
      "+------------+--------------+--------------------+---------------------+---------------+\n",
      "| size       | size(large)  | size(small)        | size(large)         | size(small)   |\n",
      "+------------+--------------+--------------------+---------------------+---------------+\n",
      "| tasty(no)  | 0.25         | 0.3333333333333333 | 0.16666666666666666 | 1.0           |\n",
      "+------------+--------------+--------------------+---------------------+---------------+\n",
      "| tasty(yes) | 0.75         | 0.6666666666666666 | 0.8333333333333334  | 0.0           |\n",
      "+------------+--------------+--------------------+---------------------+---------------+\n"
     ]
    }
   ],
   "source": [
    "from pgmpy.estimators import MaximumLikelihoodEstimator\n",
    "mle = MaximumLikelihoodEstimator(model, data)\n",
    "print(mle.estimate_cpd('fruit'))  # unconditional\n",
    "print(mle.estimate_cpd('tasty'))  # conditional"
   ]
  },
  {
   "cell_type": "markdown",
   "metadata": {},
   "source": [
    "While very straightforward, the ML estimator has the problem of *overfitting* to the data. In above CPD, the probability of a large banana being tasty is estimated at `0.833`, because `5` out of `6` observed large bananas were tasty. Fine. But note that the probability of a small banana being tasty is estimated at `0.0`, because we  observed only one small banana and it happened to be not tasty. But that should hardly make us certain that small bananas aren't tasty! We simply do not have enough observations to rely on the observed frequencies. If the observed data is not representative for the underlying distribution, ML estimations will be extremly far off. \n",
    "\n",
    "When estimating parameters for Bayesian networks, lack of data is a frequent problem. Even if the total sample size is very large, the fact that state counts are done conditionally for each parents configuration causes immense fragmentation. If a variable has 3 parents that can each take 10 states, then state counts will be done seperately for `10^3 = 1000` parents configurations. This makes MLE very fragile and unstable for learning Bayesian Network parameters. A way to mitigate MLE's overfitting is *Bayesian Parameter Estimation*.\n",
    "\n",
    "#### Bayesian Parameter Estimation\n",
    "\n",
    "The Bayesian Parameter Estimator starts with already existing prior CPDs, that express our beliefs about the variables *before* the data was observed. Those \"priors\" are then updated, using the state counts from the observed data.\n",
    "\n",
    "One can think of the priors as consisting of *pseudo state counts*, that are added to the actual counts before normalization.  Unless one wants to encode specific beliefs about the distributions of the variables, one commonly chooses uniform priors, i.e. assume that all states are equally likely.\n",
    "\n",
    "A very simple prior is the so-called *K2* prior, which simply adds `1` to the count of every single state.  A somewhat more sensible choice of prior is *BDeu* (Bayesian Dirichlet equivalent uniform prior). For BDeu we need to specify an *equivalent sample size* `N` and then the pseudo-counts are the equivalent of having observed `N` uniform samples of each variable (and each parent configuration). In pgmpy:\n",
    "\n",
    "##### Parameters\n",
    "----------\n",
    "prior_type: 'dirichlet', 'BDeu', or 'K2'\n",
    "\n",
    "string indicting which type of prior to use for the model parameters.\n",
    "            \n",
    "- If 'prior_type' is 'dirichlet', the following must be provided:\n",
    "\n",
    "'pseudo_counts' = dirichlet hyperparameters; a dict containing, for each variable, a list with a \"virtual\" count for each variable state, that is added to the state counts.(lexicographic ordering of states assumed)\n",
    "            \n",
    "- If 'prior_type' is 'BDeu', then an 'equivalent_sample_size' must be specified instead of 'pseudo_counts'. This is equivalent to 'prior_type=dirichlet' and using uniform 'pseudo_counts' of `equivalent_sample_size/(node_cardinality*np.pro(parents_cardinalities))` for each node.\n",
    "'equivalent_sample_size' can either be a numerical value or a dict that specifies the size for each variable seperately.\n",
    "\n",
    "- A prior_type of 'K2' is a shorthand for 'dirichlet' + setting every pseudo_count to 1, regardless of the cardinality of the variable.\n",
    "\n",
    "##### Returns\n",
    "-------\n",
    "parameters: list\n",
    "\n",
    "List of TabularCPDs, one for each variable of the model\n"
   ]
  },
  {
   "cell_type": "code",
   "execution_count": 23,
   "metadata": {},
   "outputs": [
    {
     "name": "stdout",
     "output_type": "stream",
     "text": [
      "+------------+---------------------+--------------------+--------------------+---------------------+\n",
      "| fruit      | fruit(apple)        | fruit(apple)       | fruit(banana)      | fruit(banana)       |\n",
      "+------------+---------------------+--------------------+--------------------+---------------------+\n",
      "| size       | size(large)         | size(small)        | size(large)        | size(small)         |\n",
      "+------------+---------------------+--------------------+--------------------+---------------------+\n",
      "| tasty(no)  | 0.34615384615384615 | 0.4090909090909091 | 0.2647058823529412 | 0.6428571428571429  |\n",
      "+------------+---------------------+--------------------+--------------------+---------------------+\n",
      "| tasty(yes) | 0.6538461538461539  | 0.5909090909090909 | 0.7352941176470589 | 0.35714285714285715 |\n",
      "+------------+---------------------+--------------------+--------------------+---------------------+\n",
      "+------------+--------------------+--------------+---------------+--------------------+\n",
      "| fruit      | fruit(apple)       | fruit(apple) | fruit(banana) | fruit(banana)      |\n",
      "+------------+--------------------+--------------+---------------+--------------------+\n",
      "| size       | size(large)        | size(small)  | size(large)   | size(small)        |\n",
      "+------------+--------------------+--------------+---------------+--------------------+\n",
      "| tasty(no)  | 0.3333333333333333 | 0.4          | 0.25          | 0.6666666666666666 |\n",
      "+------------+--------------------+--------------+---------------+--------------------+\n",
      "| tasty(yes) | 0.6666666666666666 | 0.6          | 0.75          | 0.3333333333333333 |\n",
      "+------------+--------------------+--------------+---------------+--------------------+\n"
     ]
    }
   ],
   "source": [
    "from pgmpy.estimators import BayesianEstimator\n",
    "est = BayesianEstimator(model, data)\n",
    "\n",
    "print(est.estimate_cpd('tasty', prior_type='BDeu', equivalent_sample_size=10))\n",
    "print\n",
    "print(est.estimate_cpd('tasty', prior_type='K2'))"
   ]
  },
  {
   "cell_type": "code",
   "execution_count": 24,
   "metadata": {},
   "outputs": [
    {
     "name": "stdout",
     "output_type": "stream",
     "text": [
      "   D  I  G\n",
      "0  1  0  1\n",
      "1  2  1  1\n",
      "2  0  0  0\n",
      "3  1  0  1\n",
      "4  0  0  0\n"
     ]
    }
   ],
   "source": [
    "import numpy as np\n",
    "import pandas as pd\n",
    "from pgmpy.models import BayesianModel\n",
    "from pgmpy.estimators import BayesianEstimator\n",
    "\n",
    "np.random.seed(100)\n",
    "raw_data = np.random.randint(low=0, high=2, size=(1000, 3))\n",
    "data = pd.DataFrame(raw_data, columns=['D', 'I', 'G'])\n",
    "data.D=data.I+data.G\n",
    "print(data.head())"
   ]
  },
  {
   "cell_type": "code",
   "execution_count": 25,
   "metadata": {},
   "outputs": [
    {
     "name": "stdout",
     "output_type": "stream",
     "text": [
      "CPD of I:\n",
      "+------+----------+\n",
      "| I(0) | 0.500998 |\n",
      "+------+----------+\n",
      "| I(1) | 0.499002 |\n",
      "+------+----------+\n",
      "CPD of D:\n",
      "+------+-----------------------+----------------------+----------------------+---------------------+\n",
      "| G    | G(0)                  | G(0)                 | G(1)                 | G(1)                |\n",
      "+------+-----------------------+----------------------+----------------------+---------------------+\n",
      "| I    | I(0)                  | I(1)                 | I(0)                 | I(1)                |\n",
      "+------+-----------------------+----------------------+----------------------+---------------------+\n",
      "| D(0) | 0.9924528301886792    | 0.003703703703703704 | 0.004132231404958678 | 0.00425531914893617 |\n",
      "+------+-----------------------+----------------------+----------------------+---------------------+\n",
      "| D(1) | 0.0037735849056603774 | 0.9925925925925926   | 0.9917355371900827   | 0.00425531914893617 |\n",
      "+------+-----------------------+----------------------+----------------------+---------------------+\n",
      "| D(2) | 0.0037735849056603774 | 0.003703703703703704 | 0.004132231404958678 | 0.9914893617021276  |\n",
      "+------+-----------------------+----------------------+----------------------+---------------------+\n",
      "CPD of G:\n",
      "+------+----------+\n",
      "| G(0) | 0.528942 |\n",
      "+------+----------+\n",
      "| G(1) | 0.471058 |\n",
      "+------+----------+\n"
     ]
    }
   ],
   "source": [
    "model = BayesianModel([(\"I\",\"D\"),(\"G\",\"D\")])\n",
    "model.fit(data, estimator=BayesianEstimator, prior_type='K2')\n",
    "for cpd in model.get_cpds():\n",
    "    print(\"CPD of {variable}:\".format(variable=cpd.variable))\n",
    "    print(cpd)"
   ]
  },
  {
   "cell_type": "code",
   "execution_count": 27,
   "metadata": {},
   "outputs": [
    {
     "name": "stdout",
     "output_type": "stream",
     "text": [
      "   D  I  G\n",
      "0  1  0  1\n",
      "1  2  1  1\n",
      "2  0  0  0\n",
      "3  1  0  1\n",
      "4  0  0  0\n"
     ]
    },
    {
     "data": {
      "text/html": [
       "<div>\n",
       "<style>\n",
       "    .dataframe thead tr:only-child th {\n",
       "        text-align: right;\n",
       "    }\n",
       "\n",
       "    .dataframe thead th {\n",
       "        text-align: left;\n",
       "    }\n",
       "\n",
       "    .dataframe tbody tr th {\n",
       "        vertical-align: top;\n",
       "    }\n",
       "</style>\n",
       "<table border=\"1\" class=\"dataframe\">\n",
       "  <thead>\n",
       "    <tr style=\"text-align: right;\">\n",
       "      <th></th>\n",
       "      <th>D</th>\n",
       "    </tr>\n",
       "  </thead>\n",
       "  <tbody>\n",
       "    <tr>\n",
       "      <th>0</th>\n",
       "      <td>1</td>\n",
       "    </tr>\n",
       "    <tr>\n",
       "      <th>1</th>\n",
       "      <td>2</td>\n",
       "    </tr>\n",
       "    <tr>\n",
       "      <th>2</th>\n",
       "      <td>0</td>\n",
       "    </tr>\n",
       "    <tr>\n",
       "      <th>3</th>\n",
       "      <td>1</td>\n",
       "    </tr>\n",
       "    <tr>\n",
       "      <th>4</th>\n",
       "      <td>0</td>\n",
       "    </tr>\n",
       "  </tbody>\n",
       "</table>\n",
       "</div>"
      ],
      "text/plain": [
       "   D\n",
       "0  1\n",
       "1  2\n",
       "2  0\n",
       "3  1\n",
       "4  0"
      ]
     },
     "execution_count": 27,
     "metadata": {},
     "output_type": "execute_result"
    }
   ],
   "source": [
    "print(data.head())\n",
    "model.predict(data.loc[:4,[\"I\",\"G\"]])"
   ]
  },
  {
   "cell_type": "markdown",
   "metadata": {},
   "source": [
    "### (2) Structure Learning\n",
    "\n",
    "To learn model structure (a DAG) from a data set, there are two broad techniques:\n",
    "\n",
    " - score-based structure learning\n",
    " - constraint-based structure learning\n",
    "\n",
    "We briefly discuss these approaches and give examples.\n",
    "\n",
    "### Score-based Structure Learning\n",
    "\n",
    "This approach construes model selection as an optimization task. It has two building blocks:\n",
    "\n",
    "- A _scoring function_ $s_D\\colon M \\to \\mathbb R$ that maps models to a numerical score, based on how well they fit to a given data set $D$.\n",
    "- A _search strategy_ to traverse the search space of possible models $M$ and select a model with optimal score.\n",
    "\n",
    "\n",
    "#### Scoring functions\n",
    "\n",
    "Commonly used scores to measure the fit between model and data are _Bayesian Dirichlet scores_ such as *BDeu* or *K2* and the _Bayesian Information Criterion_ (BIC, also called MDL)."
   ]
  },
  {
   "cell_type": "markdown",
   "metadata": {},
   "source": [
    "Bic: https://en.wikipedia.org/wiki/Bayesian_information_criterion"
   ]
  },
  {
   "cell_type": "code",
   "execution_count": 28,
   "metadata": {},
   "outputs": [
    {
     "name": "stdout",
     "output_type": "stream",
     "text": [
      "BDEU scores\n",
      "Model 0: -23105.19820877647 \n",
      "Model 1: -13939.946150092663 \n",
      "Model 2: -20901.670054581497\n",
      "\n",
      "K2 scores\n",
      "Model 0: -23105.008582564576 \n",
      "Model 1: -14330.743391801185 \n",
      "Model 2: -20928.509496552473\n",
      "\n",
      "BIC scores\n",
      "Model 0: -23113.4178551 \n",
      "Model 1: -14295.9866658 \n",
      "Model 2: -20945.7150108\n"
     ]
    }
   ],
   "source": [
    "import pandas as pd\n",
    "import numpy as np\n",
    "from pgmpy.estimators import BdeuScore, K2Score, BicScore\n",
    "from pgmpy.models import BayesianModel\n",
    "\n",
    "# create random data sample with 3 variables, where Z is dependent on X, Y:\n",
    "data = pd.DataFrame(np.random.randint(0, 4, size=(5000, 2)), columns=list('XY'))\n",
    "data['Z'] = data['X'] + data['Y']\n",
    "\n",
    "bdeu = BdeuScore(data, equivalent_sample_size=5)\n",
    "k2 = K2Score(data)\n",
    "bic = BicScore(data)\n",
    "\n",
    "model0 = BayesianModel([]) # all independent\n",
    "model0.add_nodes_from(['X','Y','Z'])\n",
    "model1 = BayesianModel([('X', 'Z'), ('Y', 'Z')])  # X -> Z <- Y\n",
    "model2 = BayesianModel([('X', 'Z'), ('X', 'Y')])  # Y <- X -> Z\n",
    "\n",
    "# In each case, the best model (model1) has the least negative score\n",
    "print(\"BDEU scores\")\n",
    "print (\"Model 0:\",bdeu.score(model0),\"\\nModel 1:\",bdeu.score(model1),\"\\nModel 2:\",bdeu.score(model2))\n",
    "print (\"\\nK2 scores\")\n",
    "print (\"Model 0:\",k2.score(model0),\"\\nModel 1:\",k2.score(model1),\"\\nModel 2:\",k2.score(model2))\n",
    "print (\"\\nBIC scores\")\n",
    "print (\"Model 0:\",bic.score(model0),\"\\nModel 1:\",bic.score(model1),\"\\nModel 2:\",bic.score(model2))"
   ]
  },
  {
   "cell_type": "code",
   "execution_count": 29,
   "metadata": {},
   "outputs": [
    {
     "name": "stdout",
     "output_type": "stream",
     "text": [
      "-6940.939612629852\n",
      "-6941.886925909474\n",
      "-57.11961155333779\n",
      "-6940.939612629852\n",
      "-6969.485435484372\n",
      "-6991.245006467272\n"
     ]
    }
   ],
   "source": [
    "# These should add to the BDEU score of model 1\n",
    "print(bdeu.local_score('X', parents=[]))\n",
    "print(bdeu.local_score('Y', parents=[]))\n",
    "print(bdeu.local_score('Z', parents=['X', 'Y']))\n",
    "\n",
    "print\n",
    "\n",
    "# And these should add to the BDEU score of model 2\n",
    "print(bdeu.local_score('X', parents=[]))\n",
    "print(bdeu.local_score('Y', parents=['X']))\n",
    "print(bdeu.local_score('Z', parents=['X']))"
   ]
  },
  {
   "cell_type": "markdown",
   "metadata": {},
   "source": [
    "#### Search strategies\n",
    "\n",
    "The search space of DAGs is super-exponential in the number of variables and the above scoring functions allow for local maxima. The first property makes exhaustive search intractable for all but very small networks, while the second property can prevent efficient local optimization algorithms from always finding the optimal structure. Thus, identifiying the ideal structure is often not tractable. Nevertheless, heuristic search strategies often yield good results.\n",
    "\n",
    "If only few nodes are involved (read: less than 5), `ExhaustiveSearch` can be used to compute the score for every DAG and returns the best-scoring one."
   ]
  },
  {
   "cell_type": "code",
   "execution_count": 30,
   "metadata": {},
   "outputs": [
    {
     "name": "stdout",
     "output_type": "stream",
     "text": [
      "[('X', 'Z'), ('Y', 'Z')]\n",
      "\n",
      "All DAGs by score:\n",
      "-14295.9866658 [('X', 'Z'), ('Y', 'Z')]\n",
      "-14327.6845779 [('Y', 'X'), ('Z', 'X'), ('Z', 'Y')]\n",
      "-14327.6845779 [('X', 'Y'), ('Z', 'X'), ('Z', 'Y')]\n",
      "-14327.6845779 [('Y', 'Z'), ('Y', 'X'), ('Z', 'X')]\n",
      "-14327.6845779 [('X', 'Z'), ('Y', 'Z'), ('Y', 'X')]\n",
      "-14327.6845779 [('X', 'Y'), ('X', 'Z'), ('Z', 'Y')]\n",
      "-14327.6845779 [('X', 'Y'), ('X', 'Z'), ('Y', 'Z')]\n",
      "-16527.0853344 [('X', 'Y'), ('Z', 'Y')]\n",
      "-16528.0332113 [('Y', 'X'), ('Z', 'X')]\n",
      "-18713.6684653 [('Z', 'X'), ('Z', 'Y')]\n",
      "-18713.6684653 [('Y', 'Z'), ('Z', 'X')]\n",
      "-18713.6684653 [('X', 'Z'), ('Z', 'Y')]\n",
      "-20913.0692217 [('Z', 'Y')]\n",
      "-20913.0692217 [('Y', 'Z')]\n",
      "-20914.0170987 [('Z', 'X')]\n",
      "-20914.0170987 [('X', 'Z')]\n",
      "-20944.7671339 [('Y', 'X'), ('Z', 'Y')]\n",
      "-20944.7671339 [('Y', 'Z'), ('Y', 'X')]\n",
      "-20944.7671339 [('X', 'Y'), ('Y', 'Z')]\n",
      "-20945.7150108 [('X', 'Z'), ('Y', 'X')]\n",
      "-20945.7150108 [('X', 'Y'), ('Z', 'X')]\n",
      "-20945.7150108 [('X', 'Y'), ('X', 'Z')]\n",
      "-23113.4178551 []\n",
      "-23145.1157673 [('Y', 'X')]\n",
      "-23145.1157673 [('X', 'Y')]\n"
     ]
    }
   ],
   "source": [
    "from pgmpy.estimators import ExhaustiveSearch\n",
    "\n",
    "# Note: exhaustive search will be terribly expensive for more than a few variables\n",
    "es = ExhaustiveSearch(data, scoring_method=bic)\n",
    "best_model = es.estimate()\n",
    "print(best_model.edges())\n",
    "\n",
    "print(\"\\nAll DAGs by score:\")\n",
    "for score, dag in reversed(es.all_scores()):\n",
    "    print(score, dag.edges())"
   ]
  },
  {
   "cell_type": "markdown",
   "metadata": {},
   "source": [
    "Once more nodes are involved, one needs to switch to heuristic search. `HillClimbSearch` implements a greedy local search that starts from the DAG `start` (default: disconnected DAG) and proceeds by iteratively performing single-edge manipulations that maximally increase the score. The search terminates once a local maximum is found."
   ]
  },
  {
   "cell_type": "code",
   "execution_count": 35,
   "metadata": {},
   "outputs": [
    {
     "name": "stdout",
     "output_type": "stream",
     "text": [
      "[('A', 'H'), ('B', 'A'), ('C', 'A'), ('G', 'H')]\n"
     ]
    }
   ],
   "source": [
    "from pgmpy.estimators import HillClimbSearch\n",
    "\n",
    "# create some random data with dependencies\n",
    "np.random.seed(30)\n",
    "data = pd.DataFrame(np.random.randint(0, 3, size=(2500, 8)), columns=list('ABCDEFGH'))\n",
    "data['A'] += data['B'] + data['C']\n",
    "data['H'] = data['G'] - data['A']\n",
    "\n",
    "hc = HillClimbSearch(data, scoring_method=BicScore(data))\n",
    "best_model = hc.estimate()\n",
    "print(best_model.edges())\n",
    "\n",
    "# Note: it doesn't always find the \"correct\" network.  To see this, try a different random seed.\n",
    "# however, the exhaustive search should give you the same result"
   ]
  },
  {
   "cell_type": "markdown",
   "metadata": {},
   "source": [
    "### Practice #2"
   ]
  },
  {
   "cell_type": "code",
   "execution_count": 40,
   "metadata": {},
   "outputs": [
    {
     "name": "stdout",
     "output_type": "stream",
     "text": [
      "   manhattan  tip  dist  speed  pass\n",
      "0          0    1     1      1     1\n",
      "1          0    3     5      6     1\n",
      "2          0    1     6      4     2\n",
      "3          1    2     2      2     1\n",
      "4          0    4     1      1     1\n"
     ]
    }
   ],
   "source": [
    "import pandas as pd\n",
    "from sklearn.model_selection import train_test_split\n",
    "data = pd.read_csv(\"NYC_taxi_sample.csv\")\n",
    "print(data.head())\n",
    "train,test=train_test_split(data,random_state=999,test_size=0.2)"
   ]
  },
  {
   "cell_type": "markdown",
   "metadata": {},
   "source": [
    "#### Part 1. Learn the Bayes Net structure.  You can choose your favorite search method and scoring function."
   ]
  },
  {
   "cell_type": "code",
   "execution_count": 47,
   "metadata": {},
   "outputs": [
    {
     "name": "stdout",
     "output_type": "stream",
     "text": [
      "[('manhattan', 'tip'), ('manhattan', 'pass'), ('dist', 'speed'), ('speed', 'manhattan'), ('pass', 'tip')]\n"
     ]
    }
   ],
   "source": [
    "hc = HillClimbSearch(train, scoring_method=BicScore(train))\n",
    "best_model_ = hc.estimate()\n",
    "print(best_model_.edges())"
   ]
  },
  {
   "cell_type": "markdown",
   "metadata": {},
   "source": [
    "#### Part 2. Learn the model parameters assuming the structure you learned in Part 1.  Also print out all of the local independencies."
   ]
  },
  {
   "cell_type": "code",
   "execution_count": 48,
   "metadata": {},
   "outputs": [
    {
     "name": "stdout",
     "output_type": "stream",
     "text": [
      "CPD of manhattan:\n",
      "+--------------+---------------------+--------------------+---------------------+---------------------+---------------------+---------------------+\n",
      "| speed        | speed(1)            | speed(2)           | speed(3)            | speed(4)            | speed(5)            | speed(6)            |\n",
      "+--------------+---------------------+--------------------+---------------------+---------------------+---------------------+---------------------+\n",
      "| manhattan(0) | 0.30176211453744495 | 0.3525018670649739 | 0.5756410256410256  | 0.7478411053540587  | 0.8104395604395604  | 0.898360655737705   |\n",
      "+--------------+---------------------+--------------------+---------------------+---------------------+---------------------+---------------------+\n",
      "| manhattan(1) | 0.698237885462555   | 0.6474981329350261 | 0.42435897435897435 | 0.25215889464594127 | 0.18956043956043955 | 0.10163934426229508 |\n",
      "+--------------+---------------------+--------------------+---------------------+---------------------+---------------------+---------------------+\n",
      "CPD of tip:\n",
      "+-----------+---------------------+----------------------+--------------+---------------------+----------------------+---------------------+---------------------+----------------------+\n",
      "| manhattan | manhattan(0)        | manhattan(0)         | manhattan(0) | manhattan(0)        | manhattan(1)         | manhattan(1)        | manhattan(1)        | manhattan(1)         |\n",
      "+-----------+---------------------+----------------------+--------------+---------------------+----------------------+---------------------+---------------------+----------------------+\n",
      "| pass      | pass(1)             | pass(2)              | pass(3)      | pass(4)             | pass(1)              | pass(2)             | pass(3)             | pass(4)              |\n",
      "+-----------+---------------------+----------------------+--------------+---------------------+----------------------+---------------------+---------------------+----------------------+\n",
      "| tip(1)    | 0.6034704370179949  | 0.5017543859649123   | 0.3515625    | 0.4634146341463415  | 0.537269372693727    | 0.07416267942583732 | 0.06951871657754011 | 0.10294117647058823  |\n",
      "+-----------+---------------------+----------------------+--------------+---------------------+----------------------+---------------------+---------------------+----------------------+\n",
      "| tip(2)    | 0.09254498714652956 | 0.09824561403508772  | 0.109375     | 0.06910569105691057 | 0.23025830258302582  | 0.1076555023923445  | 0.0427807486631016  | 0.022058823529411766 |\n",
      "+-----------+---------------------+----------------------+--------------+---------------------+----------------------+---------------------+---------------------+----------------------+\n",
      "| tip(3)    | 0.09318766066838047 | 0.11228070175438597  | 0.1328125    | 0.10975609756097561 | 0.12546125461254612  | 0.3875598086124402  | 0.10695187165775401 | 0.10294117647058823  |\n",
      "+-----------+---------------------+----------------------+--------------+---------------------+----------------------+---------------------+---------------------+----------------------+\n",
      "| tip(4)    | 0.15102827763496143 | 0.18596491228070175  | 0.1484375    | 0.16260162601626016 | 0.07380073800738007  | 0.35645933014354064 | 0.3155080213903743  | 0.17647058823529413  |\n",
      "+-----------+---------------------+----------------------+--------------+---------------------+----------------------+---------------------+---------------------+----------------------+\n",
      "| tip(5)    | 0.03470437017994859 | 0.056140350877192984 | 0.1796875    | 0.1016260162601626  | 0.01845018450184502  | 0.03110047846889952 | 0.32085561497326204 | 0.17647058823529413  |\n",
      "+-----------+---------------------+----------------------+--------------+---------------------+----------------------+---------------------+---------------------+----------------------+\n",
      "| tip(6)    | 0.02506426735218509 | 0.0456140350877193   | 0.078125     | 0.09349593495934959 | 0.014760147601476014 | 0.0430622009569378  | 0.1443850267379679  | 0.41911764705882354  |\n",
      "+-----------+---------------------+----------------------+--------------+---------------------+----------------------+---------------------+---------------------+----------------------+\n",
      "CPD of dist:\n",
      "+---------+-----------+\n",
      "| dist(1) | 0.304989  |\n",
      "+---------+-----------+\n",
      "| dist(2) | 0.232139  |\n",
      "+---------+-----------+\n",
      "| dist(3) | 0.130241  |\n",
      "+---------+-----------+\n",
      "| dist(4) | 0.109159  |\n",
      "+---------+-----------+\n",
      "| dist(5) | 0.0833919 |\n",
      "+---------+-----------+\n",
      "| dist(6) | 0.14008   |\n",
      "+---------+-----------+\n",
      "CPD of speed:\n",
      "+----------+-----------------------+----------------------+----------------------+---------------------+---------------------+----------------------+\n",
      "| dist     | dist(1)               | dist(2)              | dist(3)              | dist(4)             | dist(5)             | dist(6)              |\n",
      "+----------+-----------------------+----------------------+----------------------+---------------------+---------------------+----------------------+\n",
      "| speed(1) | 0.5103289977046672    | 0.19879518072289157  | 0.049910873440285206 | 0.02335456475583864 | 0.00554016620498615 | 0.009950248756218905 |\n",
      "+----------+-----------------------+----------------------+----------------------+---------------------+---------------------+----------------------+\n",
      "| speed(2) | 0.4139250191277735    | 0.4859437751004016   | 0.36185383244206776  | 0.15074309978768577 | 0.07756232686980609 | 0.026533996683250415 |\n",
      "+----------+-----------------------+----------------------+----------------------+---------------------+---------------------+----------------------+\n",
      "| speed(3) | 0.056618209640397855  | 0.20783132530120482  | 0.29590017825311943  | 0.32696390658174096 | 0.21329639889196675 | 0.175787728026534    |\n",
      "+----------+-----------------------+----------------------+----------------------+---------------------+---------------------+----------------------+\n",
      "| speed(4) | 0.009946442234123947  | 0.06827309236947791  | 0.19429590017825313  | 0.267515923566879   | 0.32132963988919666 | 0.2504145936981758   |\n",
      "+----------+-----------------------+----------------------+----------------------+---------------------+---------------------+----------------------+\n",
      "| speed(5) | 0.0038255547054322878 | 0.024096385542168676 | 0.062388591800356503 | 0.15498938428874734 | 0.22160664819944598 | 0.2504145936981758   |\n",
      "+----------+-----------------------+----------------------+----------------------+---------------------+---------------------+----------------------+\n",
      "| speed(6) | 0.005355776587605203  | 0.015060240963855422 | 0.035650623885918005 | 0.07643312101910828 | 0.16066481994459833 | 0.28689883913764513  |\n",
      "+----------+-----------------------+----------------------+----------------------+---------------------+---------------------+----------------------+\n",
      "CPD of pass:\n",
      "+-----------+---------------------+---------------------+\n",
      "| manhattan | manhattan(0)        | manhattan(1)        |\n",
      "+-----------+---------------------+---------------------+\n",
      "| pass(1)   | 0.7066059225512529  | 0.6502890173410405  |\n",
      "+-----------+---------------------+---------------------+\n",
      "| pass(2)   | 0.1275626423690205  | 0.1989402697495183  |\n",
      "+-----------+---------------------+---------------------+\n",
      "| pass(3)   | 0.05603644646924829 | 0.08766859344894026 |\n",
      "+-----------+---------------------+---------------------+\n",
      "| pass(4)   | 0.10979498861047836 | 0.06310211946050097 |\n",
      "+-----------+---------------------+---------------------+\n",
      "(manhattan _|_ dist | speed)\n",
      "(tip _|_ speed, dist | manhattan, pass)\n",
      "(pass _|_ speed, dist | manhattan)\n"
     ]
    }
   ],
   "source": [
    "best_model_.fit(train, estimator=BayesianEstimator, prior_type='K2')\n",
    "for cpd in best_model_.get_cpds():\n",
    "    print(\"CPD of {variable}:\".format(variable=cpd.variable))\n",
    "    print(cpd)\n",
    "print(best_model_.local_independencies(best_model_.nodes()))"
   ]
  },
  {
   "cell_type": "markdown",
   "metadata": {},
   "source": [
    "#### Part 3. Report the IS and OS classification accuracy for \"Manhattan\" using model.predict()."
   ]
  },
  {
   "cell_type": "code",
   "execution_count": null,
   "metadata": {
    "collapsed": true
   },
   "outputs": [],
   "source": [
    "predicted_train = best_model_.predict(train.loc[:,\"tip\":\"pass\"]-1)\n",
    "print(\"In sample:\",(train.loc[:,\"manhattan\"]==predicted_train[\"manhattan\"]).mean())\n",
    "predicted_test = best_model_.predict(test.loc[:,\"tip\":\"pass\"]-1)\n",
    "print(\"Out of sample:\",(test.loc[:,\"manhattan\"]==predicted_test[\"manhattan\"]).mean())"
   ]
  },
  {
   "cell_type": "markdown",
   "metadata": {
    "collapsed": true
   },
   "source": [
    "### Constraint-based Structure Learning\n",
    "\n",
    "A different approach to build a DAG from data, attempting to correctly capture the directionality of causal relationships, is this:\n",
    "\n",
    "1. Identify independencies in the data set using hypothesis tests \n",
    "2. Construct a DAG according to identified independencies\n",
    "\n",
    "#### (Conditional) Independence Tests\n",
    "\n",
    "Independencies in the data can be identified using $\\chi^2$ conditional independence tests. To this end, constraint-based estimators in pgmpy have a `test_conditional_independence(X, Y, Zs)`-method, that performs a hypothesis test on the data sample. It allows to check if `X` is independent from `Y` given a set of variables `Zs`:"
   ]
  },
  {
   "cell_type": "code",
   "execution_count": 43,
   "metadata": {},
   "outputs": [
    {
     "name": "stdout",
     "output_type": "stream",
     "text": [
      "(3.3670330243840469, 0.90926069703432921, True)\n",
      "(724.09792187563892, 6.3621077371991925e-136, True)\n",
      "(1.3953018788864788, 0.99973311535141951, True)\n",
      "(15.749678507382336, 0.99997344574582614, True)\n",
      "(12.385570047777863, 0.90216599909937556, True)\n",
      "(4642.9999999999991, 0.0, True)\n"
     ]
    }
   ],
   "source": [
    "from pgmpy.estimators import ConstraintBasedEstimator\n",
    "\n",
    "data = pd.DataFrame(np.random.randint(0, 3, size=(2500, 8)), columns=list('ABCDEFGH'))\n",
    "data['A'] += data['B'] + data['C']\n",
    "data['H'] = data['G'] - data['A']\n",
    "data['E'] *= data['F']\n",
    "\n",
    "est = ConstraintBasedEstimator(data)\n",
    "\n",
    "print(est.test_conditional_independence('B', 'C'))          # independent\n",
    "print(est.test_conditional_independence('B', 'H'))          # dependent\n",
    "print(est.test_conditional_independence('B', 'E'))          # independent\n",
    "print(est.test_conditional_independence('B', 'H', ['A']))   # independent\n",
    "print(est.test_conditional_independence('A', 'G'))          # independent\n",
    "print(est.test_conditional_independence('A', 'G',  ['H']))  # dependent\n",
    "\n",
    "\n",
    "#first number - chi square\n",
    "#second number - p value, if it's less than alpha, two things are dependent\n",
    "#True -  sample size is big enough to do the significance test\n"
   ]
  },
  {
   "cell_type": "markdown",
   "metadata": {},
   "source": [
    "`test_conditional_independence()` returns a triple `(chi^2, p_value, sufficient_data)`, consisting of the computed $\\chi^2$ test statistic, the `p_value` of the test, and a flag that indicates if the sample size was sufficient. The `p_value` is the probability of observing the computed $\\chi^2$ statistic or a higher $\\chi^2$ value, given the null hypothesis that X and Y are independent given Zs. \n",
    "\n",
    "This can be used to make independence judgements, at a given level of significance:\n",
    "\n",
    "p-values less than the chosen significance level $\\alpha$ reject the null hypothesis and conclude that X and Y are conditionally dependent given Zs.  p-values greater than or equal to $\\alpha$ fail to reject the null hypothesis, from which we will conclude that X and Y are conditionally independent."
   ]
  },
  {
   "cell_type": "code",
   "execution_count": 44,
   "metadata": {},
   "outputs": [
    {
     "name": "stdout",
     "output_type": "stream",
     "text": [
      "True\n",
      "False\n",
      "True\n",
      "True\n",
      "True\n",
      "False\n"
     ]
    }
   ],
   "source": [
    "def is_independent(X, Y, Zs=[], significance_level=0.05):\n",
    "    return est.test_conditional_independence(X, Y, Zs)[1] >= significance_level\n",
    "print(is_independent('B', 'C'))\n",
    "print(is_independent('B', 'H'))\n",
    "print(is_independent('B', 'E'))\n",
    "print(is_independent('B', 'H', ['A']))\n",
    "print(is_independent('A', 'G'))\n",
    "print(is_independent('A', 'G', ['H']))"
   ]
  },
  {
   "cell_type": "markdown",
   "metadata": {},
   "source": [
    "#### DAG (pattern) construction\n",
    "\n",
    "#### PC Algorithm for causal direction\n",
    "\n",
    "With a method for independence testing at hand, we can construct a DAG from the data set in three steps:\n",
    "\n",
    "*1. Construct an undirected skeleton - `estimate_skeleton()`\n",
    "\n",
    "*2. Orient compelled edges to obtain partially directed acyclic graph (PDAG; I-equivalence class of DAGs) - `skeleton_to_pdag()`\n",
    "\n",
    "Steps 1 and 2 form the PC algorithm. PDAGs are `DirectedGraph`s, that may contain bidirectional edges, to indicate that the orientation for the edge is not determined.\n",
    "\n",
    "####  The following step orients any remaining edges, essentially at random, but in a way which is consistent with the edge directions produced by PC.  This is useful if we want to use the learned structure to perform inference, but we should not make any assumptions re. causality from the edges directed in the last step.\n",
    "\n",
    " *3. Extend DAG pattern to a DAG by orienting the remaining edges in some consistent way - `pdag_to_dag()`\n"
   ]
  },
  {
   "cell_type": "code",
   "execution_count": 45,
   "metadata": {},
   "outputs": [
    {
     "name": "stdout",
     "output_type": "stream",
     "text": [
      "Undirected edges:  [('A', 'B'), ('A', 'C'), ('A', 'H'), ('E', 'F'), ('G', 'H')]\n",
      "PDAG edges:        [('A', 'H'), ('B', 'A'), ('C', 'A'), ('E', 'F'), ('F', 'E'), ('G', 'H')]\n",
      "DAG edges:         [('A', 'H'), ('B', 'A'), ('C', 'A'), ('F', 'E'), ('G', 'H')]\n"
     ]
    }
   ],
   "source": [
    "skel, separating_sets = est.estimate_skeleton(significance_level=0.01)\n",
    "print(\"Undirected edges: \", skel.edges())\n",
    "\n",
    "pdag = est.skeleton_to_pdag(skel, separating_sets)\n",
    "print(\"PDAG edges:       \", pdag.edges())\n",
    "\n",
    "model = est.pdag_to_dag(pdag)\n",
    "print(\"DAG edges:        \", model.edges())"
   ]
  },
  {
   "cell_type": "markdown",
   "metadata": {},
   "source": [
    "Note that the last step randomly oriented the E<-->F edge.  The other edges were oriented correctly by the PC algorithm."
   ]
  },
  {
   "cell_type": "code",
   "execution_count": 46,
   "metadata": {},
   "outputs": [
    {
     "name": "stdout",
     "output_type": "stream",
     "text": [
      "Undirected edges:  [('manhattan', 'dist'), ('manhattan', 'speed'), ('tip', 'pass'), ('dist', 'speed')]\n",
      "PDAG edges:        [('manhattan', 'dist'), ('manhattan', 'speed'), ('tip', 'pass'), ('dist', 'manhattan'), ('dist', 'speed'), ('speed', 'manhattan'), ('speed', 'dist'), ('pass', 'tip')]\n",
      "DAG edges:         [('dist', 'manhattan'), ('speed', 'manhattan'), ('speed', 'dist'), ('pass', 'tip')]\n"
     ]
    }
   ],
   "source": [
    "# Taxi data example\n",
    "\n",
    "data = pd.read_csv(\"NYC_taxi_sample.csv\")\n",
    "est = ConstraintBasedEstimator(data)\n",
    "skel, separating_sets = est.estimate_skeleton(significance_level=0.01)\n",
    "print(\"Undirected edges: \", skel.edges())\n",
    "\n",
    "pdag = est.skeleton_to_pdag(skel, separating_sets)\n",
    "print(\"PDAG edges:       \", pdag.edges())\n",
    "\n",
    "model = est.pdag_to_dag(pdag)\n",
    "print(\"DAG edges:        \", model.edges())"
   ]
  },
  {
   "cell_type": "markdown",
   "metadata": {},
   "source": [
    "In this case the PC algorithm identified four edges (tip<-->pass and manhattan/speed/dist) but was not able to infer the causal direction of any of the four.  The third step just orients all four at random, avoiding directed cycles."
   ]
  }
 ],
 "metadata": {
  "kernelspec": {
   "display_name": "Python 3",
   "language": "python",
   "name": "python3"
  },
  "language_info": {
   "codemirror_mode": {
    "name": "ipython",
    "version": 3
   },
   "file_extension": ".py",
   "mimetype": "text/x-python",
   "name": "python",
   "nbconvert_exporter": "python",
   "pygments_lexer": "ipython3",
   "version": "3.6.1"
  }
 },
 "nbformat": 4,
 "nbformat_minor": 1
}
